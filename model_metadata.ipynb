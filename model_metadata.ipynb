{
 "cells": [
  {
   "cell_type": "markdown",
   "metadata": {},
   "source": [
    "## Import dataset"
   ]
  },
  {
   "cell_type": "code",
   "execution_count": 1,
   "metadata": {},
   "outputs": [],
   "source": [
    "import pandas as pd\n",
    "\n",
    "data = pd.read_csv('data/prepared_data.csv')"
   ]
  },
  {
   "cell_type": "markdown",
   "metadata": {},
   "source": [
    "## Extract the meta data and labels"
   ]
  },
  {
   "cell_type": "code",
   "execution_count": 2,
   "metadata": {},
   "outputs": [],
   "source": [
    "data_meta = data[['useful', 'funny', 'cool']]\n",
    "X = data_meta.values\n",
    "y = data['rating']"
   ]
  },
  {
   "cell_type": "markdown",
   "metadata": {},
   "source": [
    "## Encode and categorize labels"
   ]
  },
  {
   "cell_type": "code",
   "execution_count": 3,
   "metadata": {},
   "outputs": [
    {
     "name": "stderr",
     "output_type": "stream",
     "text": [
      "Using TensorFlow backend.\n"
     ]
    }
   ],
   "source": [
    "from sklearn import preprocessing\n",
    "from keras.utils import to_categorical\n",
    "\n",
    "encoder = preprocessing.LabelEncoder()\n",
    "y = encoder.fit_transform(y)\n",
    "\n",
    "y = to_categorical(y)"
   ]
  },
  {
   "cell_type": "markdown",
   "metadata": {},
   "source": [
    "## Split data into Training and Test sets"
   ]
  },
  {
   "cell_type": "code",
   "execution_count": 4,
   "metadata": {},
   "outputs": [],
   "source": [
    "from sklearn.model_selection import train_test_split\n",
    "\n",
    "X_train, X_test, y_train, y_test = train_test_split(X, y, test_size=0.20, random_state=42)"
   ]
  },
  {
   "cell_type": "markdown",
   "metadata": {},
   "source": [
    "## Create the model"
   ]
  },
  {
   "cell_type": "code",
   "execution_count": 5,
   "metadata": {},
   "outputs": [
    {
     "name": "stdout",
     "output_type": "stream",
     "text": [
      "Model: \"model_1\"\n",
      "_________________________________________________________________\n",
      "Layer (type)                 Output Shape              Param #   \n",
      "=================================================================\n",
      "input_1 (InputLayer)         (None, 3)                 0         \n",
      "_________________________________________________________________\n",
      "dense_1 (Dense)              (None, 10)                40        \n",
      "_________________________________________________________________\n",
      "dense_2 (Dense)              (None, 10)                110       \n",
      "_________________________________________________________________\n",
      "dense_3 (Dense)              (None, 3)                 33        \n",
      "=================================================================\n",
      "Total params: 183\n",
      "Trainable params: 183\n",
      "Non-trainable params: 0\n",
      "_________________________________________________________________\n",
      "None\n"
     ]
    }
   ],
   "source": [
    "from keras.layers import Input\n",
    "from keras.layers.core import Dense\n",
    "from keras.models import Model\n",
    "\n",
    "meta_inputs = Input(shape=(3,))\n",
    "\n",
    "dense_layer_1 = Dense(10, activation='relu')(meta_inputs)\n",
    "\n",
    "dense_layer_2 = Dense(10, activation='relu')(dense_layer_1)\n",
    "\n",
    "dense_layer_output = Dense(3, activation='softmax')(dense_layer_2)\n",
    "\n",
    "model = Model(inputs=meta_inputs, outputs=dense_layer_output)\n",
    "model.compile(loss='categorical_crossentropy', optimizer='adam', metrics=['acc'])\n",
    "print(model.summary())"
   ]
  },
  {
   "cell_type": "markdown",
   "metadata": {},
   "source": [
    "## Train the model"
   ]
  },
  {
   "cell_type": "code",
   "execution_count": 6,
   "metadata": {},
   "outputs": [
    {
     "name": "stdout",
     "output_type": "stream",
     "text": [
      "Train on 6400 samples, validate on 1600 samples\n",
      "Epoch 1/10\n",
      "6400/6400 [==============================] - 1s 86us/step - loss: 0.8726 - acc: 0.6700 - val_loss: 0.7844 - val_acc: 0.6913\n",
      "Epoch 2/10\n",
      "6400/6400 [==============================] - 0s 65us/step - loss: 0.7820 - acc: 0.6794 - val_loss: 0.7619 - val_acc: 0.6956\n",
      "Epoch 3/10\n",
      "6400/6400 [==============================] - 0s 62us/step - loss: 0.7769 - acc: 0.6839 - val_loss: 0.7588 - val_acc: 0.6969\n",
      "Epoch 4/10\n",
      "6400/6400 [==============================] - 0s 62us/step - loss: 0.7758 - acc: 0.6833 - val_loss: 0.7588 - val_acc: 0.6938\n",
      "Epoch 5/10\n",
      "6400/6400 [==============================] - 0s 63us/step - loss: 0.7745 - acc: 0.6837 - val_loss: 0.7573 - val_acc: 0.6944\n",
      "Epoch 6/10\n",
      "6400/6400 [==============================] - 0s 68us/step - loss: 0.7743 - acc: 0.6848 - val_loss: 0.7562 - val_acc: 0.6950\n",
      "Epoch 7/10\n",
      "6400/6400 [==============================] - 0s 68us/step - loss: 0.7730 - acc: 0.6839 - val_loss: 0.7550 - val_acc: 0.6944\n",
      "Epoch 8/10\n",
      "6400/6400 [==============================] - 0s 71us/step - loss: 0.7734 - acc: 0.6837 - val_loss: 0.7578 - val_acc: 0.6944\n",
      "Epoch 9/10\n",
      "6400/6400 [==============================] - 0s 71us/step - loss: 0.7729 - acc: 0.6848 - val_loss: 0.7570 - val_acc: 0.6944\n",
      "Epoch 10/10\n",
      "6400/6400 [==============================] - 0s 68us/step - loss: 0.7724 - acc: 0.6847 - val_loss: 0.7588 - val_acc: 0.6950\n"
     ]
    }
   ],
   "source": [
    "trained_model = model.fit(X_train, y_train, batch_size=16, epochs=10, verbose=1, validation_split=0.2)"
   ]
  },
  {
   "cell_type": "markdown",
   "metadata": {},
   "source": [
    "## Evaluate the model"
   ]
  },
  {
   "cell_type": "code",
   "execution_count": 7,
   "metadata": {},
   "outputs": [
    {
     "name": "stdout",
     "output_type": "stream",
     "text": [
      "2000/2000 [==============================] - 0s 21us/step\n",
      "Test Score: 0.7458895096778869\n",
      "Test Accuracy: 0.703000009059906\n"
     ]
    }
   ],
   "source": [
    "score = model.evaluate(X_test, y_test, verbose=1)\n",
    "\n",
    "print(\"Test Score:\", score[0])\n",
    "print(\"Test Accuracy:\", score[1])"
   ]
  },
  {
   "cell_type": "markdown",
   "metadata": {},
   "source": [
    "## Plot loss and accuracy"
   ]
  },
  {
   "cell_type": "code",
   "execution_count": 11,
   "metadata": {},
   "outputs": [
    {
     "data": {
      "image/png": "[encoded data removed]",
      "text/plain": [
       "<Figure size 432x288 with 1 Axes>"
      ]
     },
     "metadata": {
      "needs_background": "light"
     },
     "output_type": "display_data"
    },
    {
     "data": {
      "image/png": "[encoded data removed]",
      "text/plain": [
       "<Figure size 432x288 with 1 Axes>"
      ]
     },
     "metadata": {
      "needs_background": "light"
     },
     "output_type": "display_data"
    }
   ],
   "source": [
    "import matplotlib.pyplot as plt\n",
    "\n",
    "plt.figure()\n",
    "plt.plot(trained_model.history['loss'])\n",
    "plt.plot(trained_model.history['val_loss'])\n",
    "plt.title('Model Loss')\n",
    "plt.xlabel('epoch')\n",
    "plt.ylabel('loss')\n",
    "plt.legend(['train','test'], loc='upper left')\n",
    "plt.show()\n",
    "\n",
    "plt.figure()\n",
    "plt.plot(trained_model.history['acc'])\n",
    "plt.plot(trained_model.history['val_acc'])\n",
    "plt.title('Model Accuracy')\n",
    "plt.xlabel('epoch')\n",
    "plt.ylabel('accuracy')\n",
    "plt.legend(['train','test'], loc='upper left')\n",
    "plt.show()"
   ]
  },
  {
   "cell_type": "markdown",
   "metadata": {},
   "source": [
    "## Save the model"
   ]
  },
  {
   "cell_type": "code",
   "execution_count": 9,
   "metadata": {},
   "outputs": [],
   "source": [
    "import pickle\n",
    "\n",
    "filename = 'model_metadata.sav'\n",
    "pickle.dump(model, open(filename, 'wb'))"
   ]
  }
 ],
 "metadata": {
  "kernelspec": {
   "display_name": "Python 3",
   "language": "python",
   "name": "python3"
  },
  "language_info": {
   "codemirror_mode": {
    "name": "ipython",
    "version": 3
   },
   "file_extension": ".py",
   "mimetype": "text/x-python",
   "name": "python",
   "nbconvert_exporter": "python",
   "pygments_lexer": "ipython3",
   "version": "3.7.0"
  }
 },
 "nbformat": 4,
 "nbformat_minor": 2
}
